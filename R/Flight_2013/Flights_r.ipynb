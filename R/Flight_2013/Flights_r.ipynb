{
  "nbformat": 4,
  "nbformat_minor": 0,
  "metadata": {
    "colab": {
      "provenance": [],
      "authorship_tag": "ABX9TyPUmEbGfhCKAyAKQod7vSmo",
      "include_colab_link": true
    },
    "kernelspec": {
      "name": "ir",
      "display_name": "R"
    },
    "language_info": {
      "name": "R"
    }
  },
  "cells": [
    {
      "cell_type": "markdown",
      "metadata": {
        "id": "view-in-github",
        "colab_type": "text"
      },
      "source": [
        "<a href=\"https://colab.research.google.com/github/wnich/datarockie_datasci_bootcamp_06/blob/main/R/Flight_2013/Flights_r.ipynb\" target=\"_parent\"><img src=\"https://colab.research.google.com/assets/colab-badge.svg\" alt=\"Open In Colab\"/></a>"
      ]
    },
    {
      "cell_type": "code",
      "execution_count": 1,
      "metadata": {
        "colab": {
          "base_uri": "https://localhost:8080/"
        },
        "id": "HufoKtLkAIXW",
        "outputId": "f0d73bbe-9075-408a-9902-bfad5a63891b"
      },
      "outputs": [
        {
          "output_type": "stream",
          "name": "stderr",
          "text": [
            "Installing packages into ‘/usr/local/lib/R/site-library’\n",
            "(as ‘lib’ is unspecified)\n",
            "\n",
            "Installing package into ‘/usr/local/lib/R/site-library’\n",
            "(as ‘lib’ is unspecified)\n",
            "\n",
            "\n",
            "Attaching package: ‘dplyr’\n",
            "\n",
            "\n",
            "The following objects are masked from ‘package:stats’:\n",
            "\n",
            "    filter, lag\n",
            "\n",
            "\n",
            "The following objects are masked from ‘package:base’:\n",
            "\n",
            "    intersect, setdiff, setequal, union\n",
            "\n",
            "\n"
          ]
        }
      ],
      "source": [
        "# install packages and libraries\n",
        "\n",
        "install.packages(c(\"tidyverse\",\n",
        "                     \"dplyr\",\n",
        "                     \"readr\", \"readxl\"))\n",
        "install.packages(\"nycflights13\")\n",
        "\n",
        "library(nycflights13)\n",
        "library(dplyr)"
      ]
    },
    {
      "cell_type": "markdown",
      "source": [
        "flights: *On-time data for all flights that departed NYC (i.e. JFK, LGA or EWR) in 2013.*\n",
        "\n",
        "\n",
        "*   flight is index\n",
        "\n",
        "\n",
        "*   arr_delay/dep_delay  : Departure and arrival delays, in minutes. Negative times represent early departures/arrivals.\n",
        "\n",
        "\n",
        "\n",
        "\n",
        "\n",
        "\n",
        "airlines: Look up airline names from their carrier codes.\n",
        "\n"
      ],
      "metadata": {
        "id": "yulGUKHxggpz"
      }
    },
    {
      "cell_type": "code",
      "source": [
        "# load data\n",
        "data(\"flights\", \"airlines\", \"airports\")\n",
        "\n",
        "# glimpse data\n",
        "glimpse(flights)\n",
        "glimpse(airlines)\n",
        "glimpse(airports)\n"
      ],
      "metadata": {
        "colab": {
          "base_uri": "https://localhost:8080/"
        },
        "id": "U0ZVTxZFBpwP",
        "outputId": "eef7843c-8fa9-46a3-a270-4effe2304a48"
      },
      "execution_count": 13,
      "outputs": [
        {
          "output_type": "stream",
          "name": "stdout",
          "text": [
            "Rows: 336,776\n",
            "Columns: 19\n",
            "$ year           \u001b[3m\u001b[90m<int>\u001b[39m\u001b[23m 2013, 2013, 2013, 2013, 2013, 2013, 2013, 2013, 2013, 2…\n",
            "$ month          \u001b[3m\u001b[90m<int>\u001b[39m\u001b[23m 1, 1, 1, 1, 1, 1, 1, 1, 1, 1, 1, 1, 1, 1, 1, 1, 1, 1, 1…\n",
            "$ day            \u001b[3m\u001b[90m<int>\u001b[39m\u001b[23m 1, 1, 1, 1, 1, 1, 1, 1, 1, 1, 1, 1, 1, 1, 1, 1, 1, 1, 1…\n",
            "$ dep_time       \u001b[3m\u001b[90m<int>\u001b[39m\u001b[23m 517, 533, 542, 544, 554, 554, 555, 557, 557, 558, 558, …\n",
            "$ sched_dep_time \u001b[3m\u001b[90m<int>\u001b[39m\u001b[23m 515, 529, 540, 545, 600, 558, 600, 600, 600, 600, 600, …\n",
            "$ dep_delay      \u001b[3m\u001b[90m<dbl>\u001b[39m\u001b[23m 2, 4, 2, -1, -6, -4, -5, -3, -3, -2, -2, -2, -2, -2, -1…\n",
            "$ arr_time       \u001b[3m\u001b[90m<int>\u001b[39m\u001b[23m 830, 850, 923, 1004, 812, 740, 913, 709, 838, 753, 849,…\n",
            "$ sched_arr_time \u001b[3m\u001b[90m<int>\u001b[39m\u001b[23m 819, 830, 850, 1022, 837, 728, 854, 723, 846, 745, 851,…\n",
            "$ arr_delay      \u001b[3m\u001b[90m<dbl>\u001b[39m\u001b[23m 11, 20, 33, -18, -25, 12, 19, -14, -8, 8, -2, -3, 7, -1…\n",
            "$ carrier        \u001b[3m\u001b[90m<chr>\u001b[39m\u001b[23m \"UA\", \"UA\", \"AA\", \"B6\", \"DL\", \"UA\", \"B6\", \"EV\", \"B6\", \"…\n",
            "$ flight         \u001b[3m\u001b[90m<int>\u001b[39m\u001b[23m 1545, 1714, 1141, 725, 461, 1696, 507, 5708, 79, 301, 4…\n",
            "$ tailnum        \u001b[3m\u001b[90m<chr>\u001b[39m\u001b[23m \"N14228\", \"N24211\", \"N619AA\", \"N804JB\", \"N668DN\", \"N394…\n",
            "$ origin         \u001b[3m\u001b[90m<chr>\u001b[39m\u001b[23m \"EWR\", \"LGA\", \"JFK\", \"JFK\", \"LGA\", \"EWR\", \"EWR\", \"LGA\",…\n",
            "$ dest           \u001b[3m\u001b[90m<chr>\u001b[39m\u001b[23m \"IAH\", \"IAH\", \"MIA\", \"BQN\", \"ATL\", \"ORD\", \"FLL\", \"IAD\",…\n",
            "$ air_time       \u001b[3m\u001b[90m<dbl>\u001b[39m\u001b[23m 227, 227, 160, 183, 116, 150, 158, 53, 140, 138, 149, 1…\n",
            "$ distance       \u001b[3m\u001b[90m<dbl>\u001b[39m\u001b[23m 1400, 1416, 1089, 1576, 762, 719, 1065, 229, 944, 733, …\n",
            "$ hour           \u001b[3m\u001b[90m<dbl>\u001b[39m\u001b[23m 5, 5, 5, 5, 6, 5, 6, 6, 6, 6, 6, 6, 6, 6, 6, 5, 6, 6, 6…\n",
            "$ minute         \u001b[3m\u001b[90m<dbl>\u001b[39m\u001b[23m 15, 29, 40, 45, 0, 58, 0, 0, 0, 0, 0, 0, 0, 0, 0, 59, 0…\n",
            "$ time_hour      \u001b[3m\u001b[90m<dttm>\u001b[39m\u001b[23m 2013-01-01 05:00:00, 2013-01-01 05:00:00, 2013-01-01 0…\n",
            "Rows: 16\n",
            "Columns: 2\n",
            "$ carrier \u001b[3m\u001b[90m<chr>\u001b[39m\u001b[23m \"9E\", \"AA\", \"AS\", \"B6\", \"DL\", \"EV\", \"F9\", \"FL\", \"HA\", \"MQ\", \"O…\n",
            "$ name    \u001b[3m\u001b[90m<chr>\u001b[39m\u001b[23m \"Endeavor Air Inc.\", \"American Airlines Inc.\", \"Alaska Airline…\n",
            "Rows: 1,458\n",
            "Columns: 8\n",
            "$ faa   \u001b[3m\u001b[90m<chr>\u001b[39m\u001b[23m \"04G\", \"06A\", \"06C\", \"06N\", \"09J\", \"0A9\", \"0G6\", \"0G7\", \"0P2\", \"…\n",
            "$ name  \u001b[3m\u001b[90m<chr>\u001b[39m\u001b[23m \"Lansdowne Airport\", \"Moton Field Municipal Airport\", \"Schaumbur…\n",
            "$ lat   \u001b[3m\u001b[90m<dbl>\u001b[39m\u001b[23m 41.13047, 32.46057, 41.98934, 41.43191, 31.07447, 36.37122, 41.4…\n",
            "$ lon   \u001b[3m\u001b[90m<dbl>\u001b[39m\u001b[23m -80.61958, -85.68003, -88.10124, -74.39156, -81.42778, -82.17342…\n",
            "$ alt   \u001b[3m\u001b[90m<dbl>\u001b[39m\u001b[23m 1044, 264, 801, 523, 11, 1593, 730, 492, 1000, 108, 409, 875, 10…\n",
            "$ tz    \u001b[3m\u001b[90m<dbl>\u001b[39m\u001b[23m -5, -6, -6, -5, -5, -5, -5, -5, -5, -8, -5, -6, -5, -5, -5, -5, …\n",
            "$ dst   \u001b[3m\u001b[90m<chr>\u001b[39m\u001b[23m \"A\", \"A\", \"A\", \"A\", \"A\", \"A\", \"A\", \"A\", \"U\", \"A\", \"A\", \"U\", \"A\",…\n",
            "$ tzone \u001b[3m\u001b[90m<chr>\u001b[39m\u001b[23m \"America/New_York\", \"America/Chicago\", \"America/Chicago\", \"Ameri…\n"
          ]
        }
      ]
    },
    {
      "cell_type": "code",
      "source": [
        "## rename carrier col in airlines\n",
        "airlines <- airlines %>%\n",
        "          rename(\"ABBV\" = carrier )"
      ],
      "metadata": {
        "id": "OH_E5SPhDWzL"
      },
      "execution_count": 3,
      "outputs": []
    },
    {
      "cell_type": "markdown",
      "source": [
        "**When was the busiest travel period (month) in New York?**\n",
        "\n"
      ],
      "metadata": {
        "id": "wC-oXOTSxTQe"
      }
    },
    {
      "cell_type": "markdown",
      "source": [
        "Total flights departed from NY in 2013:"
      ],
      "metadata": {
        "id": "gYk3hdM1n7gZ"
      }
    },
    {
      "cell_type": "code",
      "source": [
        "flights %>% summarise(n())"
      ],
      "metadata": {
        "colab": {
          "base_uri": "https://localhost:8080/",
          "height": 147
        },
        "id": "gNbb7po6k0y-",
        "outputId": "f1775423-004f-4d8d-9ff6-10c79be1ba50"
      },
      "execution_count": 4,
      "outputs": [
        {
          "output_type": "display_data",
          "data": {
            "text/html": [
              "<table class=\"dataframe\">\n",
              "<caption>A tibble: 1 × 1</caption>\n",
              "<thead>\n",
              "\t<tr><th scope=col>n()</th></tr>\n",
              "\t<tr><th scope=col>&lt;int&gt;</th></tr>\n",
              "</thead>\n",
              "<tbody>\n",
              "\t<tr><td>336776</td></tr>\n",
              "</tbody>\n",
              "</table>\n"
            ],
            "text/markdown": "\nA tibble: 1 × 1\n\n| n() &lt;int&gt; |\n|---|\n| 336776 |\n\n",
            "text/latex": "A tibble: 1 × 1\n\\begin{tabular}{l}\n n()\\\\\n <int>\\\\\n\\hline\n\t 336776\\\\\n\\end{tabular}\n",
            "text/plain": [
              "  n()   \n",
              "1 336776"
            ]
          },
          "metadata": {}
        }
      ]
    },
    {
      "cell_type": "code",
      "source": [
        "flights %>%\n",
        "    group_by(month) %>%\n",
        "    summarise(total_flights = n()) %>%\n",
        "    arrange(desc(total_flights)) %>%\n",
        "    head(3)"
      ],
      "metadata": {
        "colab": {
          "base_uri": "https://localhost:8080/",
          "height": 192
        },
        "id": "qmCYgRF8kYNq",
        "outputId": "fea37feb-8e4e-482c-f830-7d4f4b295486"
      },
      "execution_count": 5,
      "outputs": [
        {
          "output_type": "display_data",
          "data": {
            "text/html": [
              "<table class=\"dataframe\">\n",
              "<caption>A tibble: 3 × 2</caption>\n",
              "<thead>\n",
              "\t<tr><th scope=col>month</th><th scope=col>total_flights</th></tr>\n",
              "\t<tr><th scope=col>&lt;int&gt;</th><th scope=col>&lt;int&gt;</th></tr>\n",
              "</thead>\n",
              "<tbody>\n",
              "\t<tr><td> 7</td><td>29425</td></tr>\n",
              "\t<tr><td> 8</td><td>29327</td></tr>\n",
              "\t<tr><td>10</td><td>28889</td></tr>\n",
              "</tbody>\n",
              "</table>\n"
            ],
            "text/markdown": "\nA tibble: 3 × 2\n\n| month &lt;int&gt; | total_flights &lt;int&gt; |\n|---|---|\n|  7 | 29425 |\n|  8 | 29327 |\n| 10 | 28889 |\n\n",
            "text/latex": "A tibble: 3 × 2\n\\begin{tabular}{ll}\n month & total\\_flights\\\\\n <int> & <int>\\\\\n\\hline\n\t  7 & 29425\\\\\n\t  8 & 29327\\\\\n\t 10 & 28889\\\\\n\\end{tabular}\n",
            "text/plain": [
              "  month total_flights\n",
              "1  7    29425        \n",
              "2  8    29327        \n",
              "3 10    28889        "
            ]
          },
          "metadata": {}
        }
      ]
    },
    {
      "cell_type": "markdown",
      "source": [
        "\n",
        "\n",
        "---\n",
        "\n",
        "\n",
        "\n",
        "---\n",
        "\n"
      ],
      "metadata": {
        "id": "Fnqr5dz_0af9"
      }
    },
    {
      "cell_type": "markdown",
      "source": [
        "**When was the least busiest travel period (month) in 2013?**"
      ],
      "metadata": {
        "id": "AblDhr10oU9G"
      }
    },
    {
      "cell_type": "code",
      "source": [
        "flights %>%\n",
        "    group_by(month) %>%\n",
        "    summarise(count_flight = n()) %>%\n",
        "    arrange(desc(count_flight)) %>%\n",
        "    tail(1)"
      ],
      "metadata": {
        "colab": {
          "base_uri": "https://localhost:8080/",
          "height": 129
        },
        "id": "yHBvvL2tiRHS",
        "outputId": "27720139-57ff-4845-bd1e-a98dd7f33b42"
      },
      "execution_count": 6,
      "outputs": [
        {
          "output_type": "display_data",
          "data": {
            "text/html": [
              "<table class=\"dataframe\">\n",
              "<caption>A tibble: 1 × 2</caption>\n",
              "<thead>\n",
              "\t<tr><th scope=col>month</th><th scope=col>count_flight</th></tr>\n",
              "\t<tr><th scope=col>&lt;int&gt;</th><th scope=col>&lt;int&gt;</th></tr>\n",
              "</thead>\n",
              "<tbody>\n",
              "\t<tr><td>2</td><td>24951</td></tr>\n",
              "</tbody>\n",
              "</table>\n"
            ],
            "text/markdown": "\nA tibble: 1 × 2\n\n| month &lt;int&gt; | count_flight &lt;int&gt; |\n|---|---|\n| 2 | 24951 |\n\n",
            "text/latex": "A tibble: 1 × 2\n\\begin{tabular}{ll}\n month & count\\_flight\\\\\n <int> & <int>\\\\\n\\hline\n\t 2 & 24951\\\\\n\\end{tabular}\n",
            "text/plain": [
              "  month count_flight\n",
              "1 2     24951       "
            ]
          },
          "metadata": {}
        }
      ]
    },
    {
      "cell_type": "markdown",
      "source": [
        "\n",
        "\n",
        "---\n",
        "---\n",
        "\n",
        "\n",
        "\n",
        "\n",
        "\n"
      ],
      "metadata": {
        "id": "kJtFuxkf0dj-"
      }
    },
    {
      "cell_type": "markdown",
      "source": [
        "**What were the 3 most popular destinations where New Yorkers visited in 2013?** \n"
      ],
      "metadata": {
        "id": "2IK0AT_bydFH"
      }
    },
    {
      "cell_type": "code",
      "source": [
        "flights %>%\n",
        "    group_by(dest) %>% \n",
        "    summarize(number_flights = n()) %>% \n",
        "    arrange(desc(number_flights)) %>% \n",
        "    left_join(airports ,by = c(\"dest\" = \"faa\")) %>%\n",
        "    select(1,3,2)%>%\n",
        "    head(3) \n",
        "\n",
        "#pop_dest <- pop_dest[,c(1,3,2)]\n",
        "#pop_dest"
      ],
      "metadata": {
        "colab": {
          "base_uri": "https://localhost:8080/",
          "height": 192
        },
        "id": "fphB0WLpyjtu",
        "outputId": "277fdc1a-087b-4138-9279-effb5c2f2cce"
      },
      "execution_count": 7,
      "outputs": [
        {
          "output_type": "display_data",
          "data": {
            "text/html": [
              "<table class=\"dataframe\">\n",
              "<caption>A tibble: 3 × 3</caption>\n",
              "<thead>\n",
              "\t<tr><th scope=col>dest</th><th scope=col>name</th><th scope=col>number_flights</th></tr>\n",
              "\t<tr><th scope=col>&lt;chr&gt;</th><th scope=col>&lt;chr&gt;</th><th scope=col>&lt;int&gt;</th></tr>\n",
              "</thead>\n",
              "<tbody>\n",
              "\t<tr><td>ORD</td><td>Chicago Ohare Intl             </td><td>17283</td></tr>\n",
              "\t<tr><td>ATL</td><td>Hartsfield Jackson Atlanta Intl</td><td>17215</td></tr>\n",
              "\t<tr><td>LAX</td><td>Los Angeles Intl               </td><td>16174</td></tr>\n",
              "</tbody>\n",
              "</table>\n"
            ],
            "text/markdown": "\nA tibble: 3 × 3\n\n| dest &lt;chr&gt; | name &lt;chr&gt; | number_flights &lt;int&gt; |\n|---|---|---|\n| ORD | Chicago Ohare Intl              | 17283 |\n| ATL | Hartsfield Jackson Atlanta Intl | 17215 |\n| LAX | Los Angeles Intl                | 16174 |\n\n",
            "text/latex": "A tibble: 3 × 3\n\\begin{tabular}{lll}\n dest & name & number\\_flights\\\\\n <chr> & <chr> & <int>\\\\\n\\hline\n\t ORD & Chicago Ohare Intl              & 17283\\\\\n\t ATL & Hartsfield Jackson Atlanta Intl & 17215\\\\\n\t LAX & Los Angeles Intl                & 16174\\\\\n\\end{tabular}\n",
            "text/plain": [
              "  dest name                            number_flights\n",
              "1 ORD  Chicago Ohare Intl              17283         \n",
              "2 ATL  Hartsfield Jackson Atlanta Intl 17215         \n",
              "3 LAX  Los Angeles Intl                16174         "
            ]
          },
          "metadata": {}
        }
      ]
    },
    {
      "cell_type": "code",
      "source": [
        "flights %>%\n",
        "    filter(dest == \"LAX\") %>%\n",
        "    count(dest)"
      ],
      "metadata": {
        "colab": {
          "base_uri": "https://localhost:8080/",
          "height": 129
        },
        "id": "kCVxKOrynqa9",
        "outputId": "51c75a97-4485-4a01-d06a-87aeb7615f53"
      },
      "execution_count": 8,
      "outputs": [
        {
          "output_type": "display_data",
          "data": {
            "text/html": [
              "<table class=\"dataframe\">\n",
              "<caption>A tibble: 1 × 2</caption>\n",
              "<thead>\n",
              "\t<tr><th scope=col>dest</th><th scope=col>n</th></tr>\n",
              "\t<tr><th scope=col>&lt;chr&gt;</th><th scope=col>&lt;int&gt;</th></tr>\n",
              "</thead>\n",
              "<tbody>\n",
              "\t<tr><td>LAX</td><td>16174</td></tr>\n",
              "</tbody>\n",
              "</table>\n"
            ],
            "text/markdown": "\nA tibble: 1 × 2\n\n| dest &lt;chr&gt; | n &lt;int&gt; |\n|---|---|\n| LAX | 16174 |\n\n",
            "text/latex": "A tibble: 1 × 2\n\\begin{tabular}{ll}\n dest & n\\\\\n <chr> & <int>\\\\\n\\hline\n\t LAX & 16174\\\\\n\\end{tabular}\n",
            "text/plain": [
              "  dest n    \n",
              "1 LAX  16174"
            ]
          },
          "metadata": {}
        }
      ]
    },
    {
      "cell_type": "markdown",
      "source": [
        "\n",
        "\n",
        "---\n",
        "\n",
        "\n",
        "\n",
        "---\n",
        "\n"
      ],
      "metadata": {
        "id": "5wJK6rvM0iKW"
      }
    },
    {
      "cell_type": "markdown",
      "source": [
        "**Top 10 airlines had the most flights to NY in 2013**\n",
        "\n",
        "\n",
        "\n"
      ],
      "metadata": {
        "id": "CH9P9-88ykMN"
      }
    },
    {
      "cell_type": "code",
      "source": [
        "flights %>% #.......call\n",
        "  count(carrier) %>%     #.......# of carriers operated in that month\n",
        "  arrange(desc(n)) %>%   #.......ordering/sorting\n",
        "  left_join(airlines, by = \"carrier\" ) %>%  # to get fullnames of airlines\n",
        "  head(10)"
      ],
      "metadata": {
        "colab": {
          "base_uri": "https://localhost:8080/",
          "height": 412
        },
        "id": "ajSlPnpzy7BU",
        "outputId": "022c16ea-0d3e-4bcd-f120-f84398718bee"
      },
      "execution_count": 46,
      "outputs": [
        {
          "output_type": "display_data",
          "data": {
            "text/html": [
              "<table class=\"dataframe\">\n",
              "<caption>A tibble: 10 × 3</caption>\n",
              "<thead>\n",
              "\t<tr><th scope=col>carrier</th><th scope=col>n</th><th scope=col>name</th></tr>\n",
              "\t<tr><th scope=col>&lt;chr&gt;</th><th scope=col>&lt;int&gt;</th><th scope=col>&lt;chr&gt;</th></tr>\n",
              "</thead>\n",
              "<tbody>\n",
              "\t<tr><td>UA</td><td>58665</td><td>United Air Lines Inc.   </td></tr>\n",
              "\t<tr><td>B6</td><td>54635</td><td>JetBlue Airways         </td></tr>\n",
              "\t<tr><td>EV</td><td>54173</td><td>ExpressJet Airlines Inc.</td></tr>\n",
              "\t<tr><td>DL</td><td>48110</td><td>Delta Air Lines Inc.    </td></tr>\n",
              "\t<tr><td>AA</td><td>32729</td><td>American Airlines Inc.  </td></tr>\n",
              "\t<tr><td>MQ</td><td>26397</td><td>Envoy Air               </td></tr>\n",
              "\t<tr><td>US</td><td>20536</td><td>US Airways Inc.         </td></tr>\n",
              "\t<tr><td>9E</td><td>18460</td><td>Endeavor Air Inc.       </td></tr>\n",
              "\t<tr><td>WN</td><td>12275</td><td>Southwest Airlines Co.  </td></tr>\n",
              "\t<tr><td>VX</td><td> 5162</td><td>Virgin America          </td></tr>\n",
              "</tbody>\n",
              "</table>\n"
            ],
            "text/markdown": "\nA tibble: 10 × 3\n\n| carrier &lt;chr&gt; | n &lt;int&gt; | name &lt;chr&gt; |\n|---|---|---|\n| UA | 58665 | United Air Lines Inc.    |\n| B6 | 54635 | JetBlue Airways          |\n| EV | 54173 | ExpressJet Airlines Inc. |\n| DL | 48110 | Delta Air Lines Inc.     |\n| AA | 32729 | American Airlines Inc.   |\n| MQ | 26397 | Envoy Air                |\n| US | 20536 | US Airways Inc.          |\n| 9E | 18460 | Endeavor Air Inc.        |\n| WN | 12275 | Southwest Airlines Co.   |\n| VX |  5162 | Virgin America           |\n\n",
            "text/latex": "A tibble: 10 × 3\n\\begin{tabular}{lll}\n carrier & n & name\\\\\n <chr> & <int> & <chr>\\\\\n\\hline\n\t UA & 58665 & United Air Lines Inc.   \\\\\n\t B6 & 54635 & JetBlue Airways         \\\\\n\t EV & 54173 & ExpressJet Airlines Inc.\\\\\n\t DL & 48110 & Delta Air Lines Inc.    \\\\\n\t AA & 32729 & American Airlines Inc.  \\\\\n\t MQ & 26397 & Envoy Air               \\\\\n\t US & 20536 & US Airways Inc.         \\\\\n\t 9E & 18460 & Endeavor Air Inc.       \\\\\n\t WN & 12275 & Southwest Airlines Co.  \\\\\n\t VX &  5162 & Virgin America          \\\\\n\\end{tabular}\n",
            "text/plain": [
              "   carrier n     name                    \n",
              "1  UA      58665 United Air Lines Inc.   \n",
              "2  B6      54635 JetBlue Airways         \n",
              "3  EV      54173 ExpressJet Airlines Inc.\n",
              "4  DL      48110 Delta Air Lines Inc.    \n",
              "5  AA      32729 American Airlines Inc.  \n",
              "6  MQ      26397 Envoy Air               \n",
              "7  US      20536 US Airways Inc.         \n",
              "8  9E      18460 Endeavor Air Inc.       \n",
              "9  WN      12275 Southwest Airlines Co.  \n",
              "10 VX       5162 Virgin America          "
            ]
          },
          "metadata": {}
        }
      ]
    },
    {
      "cell_type": "markdown",
      "source": [
        "\n",
        "\n",
        "---\n",
        "\n",
        "\n",
        "\n",
        "---\n",
        "\n"
      ],
      "metadata": {
        "id": "HCDXU72x0lZI"
      }
    },
    {
      "cell_type": "markdown",
      "source": [
        "**The five most on-time departure airlines at JFK**\n"
      ],
      "metadata": {
        "id": "EfMtuDNey7Wf"
      }
    },
    {
      "cell_type": "code",
      "source": [
        "flights %>%\n",
        "  group_by(carrier)%>%\n",
        "  summarize(avg_dep_delay = mean(dep_delay, na.rm = T)) %>%\n",
        "  arrange(avg_dep_delay) %>%\n",
        "  left_join(airlines,by = \"carrier\") %>%\n",
        "  head(5)"
      ],
      "metadata": {
        "colab": {
          "base_uri": "https://localhost:8080/",
          "height": 255
        },
        "id": "w9MEOY1ZzQN7",
        "outputId": "910e9308-63e4-4dbd-d1e8-feb7f0021709"
      },
      "execution_count": 31,
      "outputs": [
        {
          "output_type": "display_data",
          "data": {
            "text/html": [
              "<table class=\"dataframe\">\n",
              "<caption>A tibble: 5 × 3</caption>\n",
              "<thead>\n",
              "\t<tr><th scope=col>carrier</th><th scope=col>avg_dep_delay</th><th scope=col>name</th></tr>\n",
              "\t<tr><th scope=col>&lt;chr&gt;</th><th scope=col>&lt;dbl&gt;</th><th scope=col>&lt;chr&gt;</th></tr>\n",
              "</thead>\n",
              "<tbody>\n",
              "\t<tr><td>US</td><td>3.782418</td><td>US Airways Inc.       </td></tr>\n",
              "\t<tr><td>HA</td><td>4.900585</td><td>Hawaiian Airlines Inc.</td></tr>\n",
              "\t<tr><td>AS</td><td>5.804775</td><td>Alaska Airlines Inc.  </td></tr>\n",
              "\t<tr><td>AA</td><td>8.586016</td><td>American Airlines Inc.</td></tr>\n",
              "\t<tr><td>DL</td><td>9.264505</td><td>Delta Air Lines Inc.  </td></tr>\n",
              "</tbody>\n",
              "</table>\n"
            ],
            "text/markdown": "\nA tibble: 5 × 3\n\n| carrier &lt;chr&gt; | avg_dep_delay &lt;dbl&gt; | name &lt;chr&gt; |\n|---|---|---|\n| US | 3.782418 | US Airways Inc.        |\n| HA | 4.900585 | Hawaiian Airlines Inc. |\n| AS | 5.804775 | Alaska Airlines Inc.   |\n| AA | 8.586016 | American Airlines Inc. |\n| DL | 9.264505 | Delta Air Lines Inc.   |\n\n",
            "text/latex": "A tibble: 5 × 3\n\\begin{tabular}{lll}\n carrier & avg\\_dep\\_delay & name\\\\\n <chr> & <dbl> & <chr>\\\\\n\\hline\n\t US & 3.782418 & US Airways Inc.       \\\\\n\t HA & 4.900585 & Hawaiian Airlines Inc.\\\\\n\t AS & 5.804775 & Alaska Airlines Inc.  \\\\\n\t AA & 8.586016 & American Airlines Inc.\\\\\n\t DL & 9.264505 & Delta Air Lines Inc.  \\\\\n\\end{tabular}\n",
            "text/plain": [
              "  carrier avg_dep_delay name                  \n",
              "1 US      3.782418      US Airways Inc.       \n",
              "2 HA      4.900585      Hawaiian Airlines Inc.\n",
              "3 AS      5.804775      Alaska Airlines Inc.  \n",
              "4 AA      8.586016      American Airlines Inc.\n",
              "5 DL      9.264505      Delta Air Lines Inc.  "
            ]
          },
          "metadata": {}
        }
      ]
    },
    {
      "cell_type": "markdown",
      "source": [
        "**The most least on time airlines at JFK**\n"
      ],
      "metadata": {
        "id": "_qoJkpjWzQd9"
      }
    },
    {
      "cell_type": "code",
      "source": [
        "jfk_time <- flights %>%\n",
        "    group_by(carrier)%>%\n",
        "    filter(origin == \"JFK\") %>%\n",
        "    summarize(avg_delay = mean(arr_delay, na.rm = T)) %>%\n",
        "    arrange(desc(avg_delay)) %>% \n",
        "    left_join(airlines,by = \"carrier\") %>%\n",
        "    head(3)\n",
        "    \n"
      ],
      "metadata": {
        "id": "zrMn92sHzv3k"
      },
      "execution_count": 32,
      "outputs": []
    },
    {
      "cell_type": "code",
      "source": [
        "jfk_time"
      ],
      "metadata": {
        "colab": {
          "base_uri": "https://localhost:8080/",
          "height": 192
        },
        "id": "mSkEaZiwOoG_",
        "outputId": "698b6c4a-d452-4041-efa3-3dbff5ef01e3"
      },
      "execution_count": 33,
      "outputs": [
        {
          "output_type": "display_data",
          "data": {
            "text/html": [
              "<table class=\"dataframe\">\n",
              "<caption>A tibble: 3 × 3</caption>\n",
              "<thead>\n",
              "\t<tr><th scope=col>carrier</th><th scope=col>avg_delay</th><th scope=col>name</th></tr>\n",
              "\t<tr><th scope=col>&lt;chr&gt;</th><th scope=col>&lt;dbl&gt;</th><th scope=col>&lt;chr&gt;</th></tr>\n",
              "</thead>\n",
              "<tbody>\n",
              "\t<tr><td>EV</td><td>17.788839</td><td>ExpressJet Airlines Inc.</td></tr>\n",
              "\t<tr><td>MQ</td><td>12.468704</td><td>Envoy Air               </td></tr>\n",
              "\t<tr><td>B6</td><td> 8.893702</td><td>JetBlue Airways         </td></tr>\n",
              "</tbody>\n",
              "</table>\n"
            ],
            "text/markdown": "\nA tibble: 3 × 3\n\n| carrier &lt;chr&gt; | avg_delay &lt;dbl&gt; | name &lt;chr&gt; |\n|---|---|---|\n| EV | 17.788839 | ExpressJet Airlines Inc. |\n| MQ | 12.468704 | Envoy Air                |\n| B6 |  8.893702 | JetBlue Airways          |\n\n",
            "text/latex": "A tibble: 3 × 3\n\\begin{tabular}{lll}\n carrier & avg\\_delay & name\\\\\n <chr> & <dbl> & <chr>\\\\\n\\hline\n\t EV & 17.788839 & ExpressJet Airlines Inc.\\\\\n\t MQ & 12.468704 & Envoy Air               \\\\\n\t B6 &  8.893702 & JetBlue Airways         \\\\\n\\end{tabular}\n",
            "text/plain": [
              "  carrier avg_delay name                    \n",
              "1 EV      17.788839 ExpressJet Airlines Inc.\n",
              "2 MQ      12.468704 Envoy Air               \n",
              "3 B6       8.893702 JetBlue Airways         "
            ]
          },
          "metadata": {}
        }
      ]
    },
    {
      "cell_type": "code",
      "source": [],
      "metadata": {
        "id": "9FFIgwPQP26m"
      },
      "execution_count": null,
      "outputs": []
    }
  ]
}