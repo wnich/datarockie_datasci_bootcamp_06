{
 "cells":[
  {
   "cell_type":"code",
   "source":[
    "# ATM\n",
    "# author : Wanicha Mueangcharoen\n",
    "# Datarockie Bootcamp 06\n",
    "# 2022"
   ],
   "execution_count":1,
   "outputs":[
    
   ],
   "metadata":{
    "datalore":{
     "node_id":"OqZ9JWJ5Pfs6aKF3Kiw3Yx",
     "type":"CODE",
     "hide_input_from_viewers":true,
     "hide_output_from_viewers":true
    }
   }
  },
  {
   "cell_type":"code",
   "source":[
    "#atm\n",
    "\n",
    "class ATM:\n",
    "    def __init__(self, name, password: str, balance: float):\n",
    "        #self.name = input(\"Enter name: \")\n",
    "        self.name = name\n",
    "        self.password = password\n",
    "        self.balance = balance\n",
    "        print(f\"Welcome Back to the PT Bank\")\n",
    "\n",
    "    def check_balance(self):\n",
    "        message_acc = f\"Account:{self.name}\"\n",
    "        message_blc = f\"Balance: {self.balance}\"\n",
    "        print(message_acc)\n",
    "        print(message_blc)\n",
    "\n",
    "    def deposit(self, money):\n",
    "        self.balance = self.balance + money \n",
    "        #or  self.balance += money \n",
    "        print( )\n",
    "        print(\"Successfully Deposit\",\"\\nNew Balance: \", self.balance )\n",
    "\n",
    "    #change account name\n",
    "    def change_acc_name(self, new_name):\n",
    "        self.name = new_name\n",
    "        print('Sucessfully Changed')\n",
    "        print( )\n",
    "        print(f'Account Name: {self.name} ')\n",
    "\n",
    "    def withdraw(self, money):\n",
    "        self.balance = self.balance - money\n",
    "        print( )\n",
    "        print(\"Successfully Withdraw\",\"\\nNew Balance: \", self.balance )\n",
    "\n",
    "    def login(self):\n",
    "        if self.name == input(\"Enter Name: \") and self.password == input(\"Enter Password: \"):\n",
    "            print(f\"What can I help you today, {self.name}?\")\n",
    "            print(\"Choose a Number\",\n",
    "                  \"\\n1 -- Check Balance\\n2 -- Deposit\\n3 -- Change Account Name\\n4 -- Withdraw\\n5 -- Exit\")\n",
    "            \n",
    "            while True: #to loop\n",
    "                print( )\n",
    "                choice = input(\"Press Number: \")\n",
    "                if choice == '1':\n",
    "                    self.check_balance()\n",
    "                    print( )\n",
    "                    print(\"Would you like to continue?\")\n",
    "                    \n",
    "                if choice == '2':\n",
    "                    print(\"Deposit\")\n",
    "                    money = float(input(\"Enter deposit amount\"))\n",
    "                    self.deposit(money)\n",
    "                    print( )\n",
    "                    print(\"Would you like to continue?\")\n",
    "                    \n",
    "                if choice == '3':\n",
    "                    print(\"Change Account Name\")\n",
    "                    new_name = input(\"Enter new account name\")\n",
    "                    self.change_acc_name(new_name)\n",
    "                    print( )\n",
    "                    print(\"Would you like to continue?\")\n",
    "                    \n",
    "                if choice == '4':\n",
    "                    print(\"Withdraw\")\n",
    "                    money = float(input(\"Enter withdraw amount\"))\n",
    "                    while money > self.balance:\n",
    "                        print(\"Sorry, there is not enough money to withdraw.\")\n",
    "                        money = float(input(\"Enter withdraw amount\"))\n",
    "                    self.withdraw(money)\n",
    "                    print( )\n",
    "                    print(\"Would you like to continue?\")\n",
    "                    \n",
    "                if choice == '5':\n",
    "                    print(\"Thank you for trusting us!\")\n",
    "                    break\n",
    "                elif choice not in ['1','2','3','4','5']:\n",
    "                    print(\"Wrong input. Please press a number again.\")\n",
    "                    \n",
    "\n",
    "        else:\n",
    "            print('Something went wrong. Please try again.')\n",
    "            \n",
    "\n",
    "        "
   ],
   "execution_count":2,
   "outputs":[
    
   ],
   "metadata":{
    "datalore":{
     "node_id":"wkg2bBWJBd1P8sV0Z0J69b",
     "type":"CODE",
     "hide_input_from_viewers":false,
     "hide_output_from_viewers":false,
     "report_properties":{
      "y":0
     }
    }
   }
  },
  {
   "cell_type":"code",
   "source":[
    "user1 = ATM('John','r678',60700.89)\n",
    "user1.login()\n"
   ],
   "execution_count":4,
   "outputs":[
    {
     "name":"stdout",
     "text":[
      "Welcome Back to the PT Bank\n"
     ],
     "output_type":"stream"
    }
   ],
   "metadata":{
    "datalore":{
     "node_id":"epj2GyULFmU43swDjIMzLx",
     "type":"CODE",
     "hide_input_from_viewers":false,
     "hide_output_from_viewers":false,
     "report_properties":{
      "y":41
     }
    }
   }
  }
 ],
 "metadata":{
  "kernelspec":{
   "display_name":"Python",
   "language":"python",
   "name":"python"
  },
  "datalore":{
   "version":1,
   "computation_mode":"JUPYTER",
   "package_manager":"pip",
   "base_environment":"default",
   "packages":[
    
   ]
  }
 },
 "nbformat":4,
 "nbformat_minor":4
}
