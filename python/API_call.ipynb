{
  "nbformat": 4,
  "nbformat_minor": 0,
  "metadata": {
    "colab": {
      "provenance": [],
      "authorship_tag": "ABX9TyO9K1YEAFzyGC6UkzzS6QK4",
      "include_colab_link": true
    },
    "kernelspec": {
      "name": "python3",
      "display_name": "Python 3"
    },
    "language_info": {
      "name": "python"
    }
  },
  "cells": [
    {
      "cell_type": "markdown",
      "metadata": {
        "id": "view-in-github",
        "colab_type": "text"
      },
      "source": [
        "<a href=\"https://colab.research.google.com/github/wnich/datarockie_datasci_bootcamp_06/blob/main/python/API_call.ipynb\" target=\"_parent\"><img src=\"https://colab.research.google.com/assets/colab-badge.svg\" alt=\"Open In Colab\"/></a>"
      ]
    },
    {
      "cell_type": "markdown",
      "source": [
        "# API call\n",
        "\n",
        "### Star War\n",
        "\n",
        "[Star War API](https://swapi.dev/)"
      ],
      "metadata": {
        "id": "qLQCGDKcxKPA"
      }
    },
    {
      "cell_type": "code",
      "source": [
        "import requests\n",
        "from bs4 import BeautifulSoup\n",
        "\n",
        "import time\n",
        "import pandas as pd\n",
        "import numpy as np\n",
        "\n",
        "import matplotlib.pyplot as plt"
      ],
      "metadata": {
        "id": "SV246018GV_v"
      },
      "execution_count": null,
      "outputs": []
    },
    {
      "cell_type": "code",
      "source": [
        "url = \"https://swapi.dev/api/starships/\"\n",
        "resp = requests.get(url) \n",
        "resp_status = resp.status_code"
      ],
      "metadata": {
        "id": "LnIIqK5Q0Xo8"
      },
      "execution_count": null,
      "outputs": []
    },
    {
      "cell_type": "code",
      "source": [
        "result = resp.json()\n",
        "result"
      ],
      "metadata": {
        "id": "j1ejqN4g0ldV"
      },
      "execution_count": null,
      "outputs": []
    },
    {
      "cell_type": "code",
      "source": [
        "total_results = []\n",
        "\n",
        "for page_num in range(1, 2):\n",
        "    # Build the URL and download the results\n",
        "    url = \"https://swapi.dev/api/planets/?page=\" + str(page_num)\n",
        "    #print(\"Downloading\", url)\n",
        "    response = requests.get(url)\n",
        "    result = response.json()\n",
        "    total_results = total_results + result['results']\n",
        "\n",
        "print(\"We have\", len(total_results), \"total results\")\n",
        "\n",
        "planets_df = pd.json_normalize(total_results)\n",
        "planets_df.head()"
      ],
      "metadata": {
        "colab": {
          "base_uri": "https://localhost:8080/",
          "height": 409
        },
        "id": "d2uVwytpzVMu",
        "outputId": "9ca0add2-2ac9-4e06-f840-8e848d0bb618"
      },
      "execution_count": 13,
      "outputs": [
        {
          "output_type": "stream",
          "name": "stdout",
          "text": [
            "We have 10 total results\n"
          ]
        },
        {
          "output_type": "execute_result",
          "data": {
            "text/plain": [
              "       name rotation_period orbital_period diameter              climate  \\\n",
              "0  Tatooine              23            304    10465                 arid   \n",
              "1  Alderaan              24            364    12500            temperate   \n",
              "2  Yavin IV              24           4818    10200  temperate, tropical   \n",
              "3      Hoth              23            549     7200               frozen   \n",
              "4   Dagobah              23            341     8900                murky   \n",
              "\n",
              "        gravity                             terrain surface_water  population  \\\n",
              "0    1 standard                              desert             1      200000   \n",
              "1    1 standard               grasslands, mountains            40  2000000000   \n",
              "2    1 standard                 jungle, rainforests             8        1000   \n",
              "3  1.1 standard  tundra, ice caves, mountain ranges           100     unknown   \n",
              "4           N/A                      swamp, jungles             8     unknown   \n",
              "\n",
              "                                           residents  \\\n",
              "0  [https://swapi.dev/api/people/1/, https://swap...   \n",
              "1  [https://swapi.dev/api/people/5/, https://swap...   \n",
              "2                                                 []   \n",
              "3                                                 []   \n",
              "4                                                 []   \n",
              "\n",
              "                                               films  \\\n",
              "0  [https://swapi.dev/api/films/1/, https://swapi...   \n",
              "1  [https://swapi.dev/api/films/1/, https://swapi...   \n",
              "2                   [https://swapi.dev/api/films/1/]   \n",
              "3                   [https://swapi.dev/api/films/2/]   \n",
              "4  [https://swapi.dev/api/films/2/, https://swapi...   \n",
              "\n",
              "                       created                       edited  \\\n",
              "0  2014-12-09T13:50:49.641000Z  2014-12-20T20:58:18.411000Z   \n",
              "1  2014-12-10T11:35:48.479000Z  2014-12-20T20:58:18.420000Z   \n",
              "2  2014-12-10T11:37:19.144000Z  2014-12-20T20:58:18.421000Z   \n",
              "3  2014-12-10T11:39:13.934000Z  2014-12-20T20:58:18.423000Z   \n",
              "4  2014-12-10T11:42:22.590000Z  2014-12-20T20:58:18.425000Z   \n",
              "\n",
              "                                url  \n",
              "0  https://swapi.dev/api/planets/1/  \n",
              "1  https://swapi.dev/api/planets/2/  \n",
              "2  https://swapi.dev/api/planets/3/  \n",
              "3  https://swapi.dev/api/planets/4/  \n",
              "4  https://swapi.dev/api/planets/5/  "
            ],
            "text/html": [
              "\n",
              "  <div id=\"df-124431f2-935e-4abc-af06-4aadb0d2ed4b\">\n",
              "    <div class=\"colab-df-container\">\n",
              "      <div>\n",
              "<style scoped>\n",
              "    .dataframe tbody tr th:only-of-type {\n",
              "        vertical-align: middle;\n",
              "    }\n",
              "\n",
              "    .dataframe tbody tr th {\n",
              "        vertical-align: top;\n",
              "    }\n",
              "\n",
              "    .dataframe thead th {\n",
              "        text-align: right;\n",
              "    }\n",
              "</style>\n",
              "<table border=\"1\" class=\"dataframe\">\n",
              "  <thead>\n",
              "    <tr style=\"text-align: right;\">\n",
              "      <th></th>\n",
              "      <th>name</th>\n",
              "      <th>rotation_period</th>\n",
              "      <th>orbital_period</th>\n",
              "      <th>diameter</th>\n",
              "      <th>climate</th>\n",
              "      <th>gravity</th>\n",
              "      <th>terrain</th>\n",
              "      <th>surface_water</th>\n",
              "      <th>population</th>\n",
              "      <th>residents</th>\n",
              "      <th>films</th>\n",
              "      <th>created</th>\n",
              "      <th>edited</th>\n",
              "      <th>url</th>\n",
              "    </tr>\n",
              "  </thead>\n",
              "  <tbody>\n",
              "    <tr>\n",
              "      <th>0</th>\n",
              "      <td>Tatooine</td>\n",
              "      <td>23</td>\n",
              "      <td>304</td>\n",
              "      <td>10465</td>\n",
              "      <td>arid</td>\n",
              "      <td>1 standard</td>\n",
              "      <td>desert</td>\n",
              "      <td>1</td>\n",
              "      <td>200000</td>\n",
              "      <td>[https://swapi.dev/api/people/1/, https://swap...</td>\n",
              "      <td>[https://swapi.dev/api/films/1/, https://swapi...</td>\n",
              "      <td>2014-12-09T13:50:49.641000Z</td>\n",
              "      <td>2014-12-20T20:58:18.411000Z</td>\n",
              "      <td>https://swapi.dev/api/planets/1/</td>\n",
              "    </tr>\n",
              "    <tr>\n",
              "      <th>1</th>\n",
              "      <td>Alderaan</td>\n",
              "      <td>24</td>\n",
              "      <td>364</td>\n",
              "      <td>12500</td>\n",
              "      <td>temperate</td>\n",
              "      <td>1 standard</td>\n",
              "      <td>grasslands, mountains</td>\n",
              "      <td>40</td>\n",
              "      <td>2000000000</td>\n",
              "      <td>[https://swapi.dev/api/people/5/, https://swap...</td>\n",
              "      <td>[https://swapi.dev/api/films/1/, https://swapi...</td>\n",
              "      <td>2014-12-10T11:35:48.479000Z</td>\n",
              "      <td>2014-12-20T20:58:18.420000Z</td>\n",
              "      <td>https://swapi.dev/api/planets/2/</td>\n",
              "    </tr>\n",
              "    <tr>\n",
              "      <th>2</th>\n",
              "      <td>Yavin IV</td>\n",
              "      <td>24</td>\n",
              "      <td>4818</td>\n",
              "      <td>10200</td>\n",
              "      <td>temperate, tropical</td>\n",
              "      <td>1 standard</td>\n",
              "      <td>jungle, rainforests</td>\n",
              "      <td>8</td>\n",
              "      <td>1000</td>\n",
              "      <td>[]</td>\n",
              "      <td>[https://swapi.dev/api/films/1/]</td>\n",
              "      <td>2014-12-10T11:37:19.144000Z</td>\n",
              "      <td>2014-12-20T20:58:18.421000Z</td>\n",
              "      <td>https://swapi.dev/api/planets/3/</td>\n",
              "    </tr>\n",
              "    <tr>\n",
              "      <th>3</th>\n",
              "      <td>Hoth</td>\n",
              "      <td>23</td>\n",
              "      <td>549</td>\n",
              "      <td>7200</td>\n",
              "      <td>frozen</td>\n",
              "      <td>1.1 standard</td>\n",
              "      <td>tundra, ice caves, mountain ranges</td>\n",
              "      <td>100</td>\n",
              "      <td>unknown</td>\n",
              "      <td>[]</td>\n",
              "      <td>[https://swapi.dev/api/films/2/]</td>\n",
              "      <td>2014-12-10T11:39:13.934000Z</td>\n",
              "      <td>2014-12-20T20:58:18.423000Z</td>\n",
              "      <td>https://swapi.dev/api/planets/4/</td>\n",
              "    </tr>\n",
              "    <tr>\n",
              "      <th>4</th>\n",
              "      <td>Dagobah</td>\n",
              "      <td>23</td>\n",
              "      <td>341</td>\n",
              "      <td>8900</td>\n",
              "      <td>murky</td>\n",
              "      <td>N/A</td>\n",
              "      <td>swamp, jungles</td>\n",
              "      <td>8</td>\n",
              "      <td>unknown</td>\n",
              "      <td>[]</td>\n",
              "      <td>[https://swapi.dev/api/films/2/, https://swapi...</td>\n",
              "      <td>2014-12-10T11:42:22.590000Z</td>\n",
              "      <td>2014-12-20T20:58:18.425000Z</td>\n",
              "      <td>https://swapi.dev/api/planets/5/</td>\n",
              "    </tr>\n",
              "  </tbody>\n",
              "</table>\n",
              "</div>\n",
              "      <button class=\"colab-df-convert\" onclick=\"convertToInteractive('df-124431f2-935e-4abc-af06-4aadb0d2ed4b')\"\n",
              "              title=\"Convert this dataframe to an interactive table.\"\n",
              "              style=\"display:none;\">\n",
              "        \n",
              "  <svg xmlns=\"http://www.w3.org/2000/svg\" height=\"24px\"viewBox=\"0 0 24 24\"\n",
              "       width=\"24px\">\n",
              "    <path d=\"M0 0h24v24H0V0z\" fill=\"none\"/>\n",
              "    <path d=\"M18.56 5.44l.94 2.06.94-2.06 2.06-.94-2.06-.94-.94-2.06-.94 2.06-2.06.94zm-11 1L8.5 8.5l.94-2.06 2.06-.94-2.06-.94L8.5 2.5l-.94 2.06-2.06.94zm10 10l.94 2.06.94-2.06 2.06-.94-2.06-.94-.94-2.06-.94 2.06-2.06.94z\"/><path d=\"M17.41 7.96l-1.37-1.37c-.4-.4-.92-.59-1.43-.59-.52 0-1.04.2-1.43.59L10.3 9.45l-7.72 7.72c-.78.78-.78 2.05 0 2.83L4 21.41c.39.39.9.59 1.41.59.51 0 1.02-.2 1.41-.59l7.78-7.78 2.81-2.81c.8-.78.8-2.07 0-2.86zM5.41 20L4 18.59l7.72-7.72 1.47 1.35L5.41 20z\"/>\n",
              "  </svg>\n",
              "      </button>\n",
              "      \n",
              "  <style>\n",
              "    .colab-df-container {\n",
              "      display:flex;\n",
              "      flex-wrap:wrap;\n",
              "      gap: 12px;\n",
              "    }\n",
              "\n",
              "    .colab-df-convert {\n",
              "      background-color: #E8F0FE;\n",
              "      border: none;\n",
              "      border-radius: 50%;\n",
              "      cursor: pointer;\n",
              "      display: none;\n",
              "      fill: #1967D2;\n",
              "      height: 32px;\n",
              "      padding: 0 0 0 0;\n",
              "      width: 32px;\n",
              "    }\n",
              "\n",
              "    .colab-df-convert:hover {\n",
              "      background-color: #E2EBFA;\n",
              "      box-shadow: 0px 1px 2px rgba(60, 64, 67, 0.3), 0px 1px 3px 1px rgba(60, 64, 67, 0.15);\n",
              "      fill: #174EA6;\n",
              "    }\n",
              "\n",
              "    [theme=dark] .colab-df-convert {\n",
              "      background-color: #3B4455;\n",
              "      fill: #D2E3FC;\n",
              "    }\n",
              "\n",
              "    [theme=dark] .colab-df-convert:hover {\n",
              "      background-color: #434B5C;\n",
              "      box-shadow: 0px 1px 3px 1px rgba(0, 0, 0, 0.15);\n",
              "      filter: drop-shadow(0px 1px 2px rgba(0, 0, 0, 0.3));\n",
              "      fill: #FFFFFF;\n",
              "    }\n",
              "  </style>\n",
              "\n",
              "      <script>\n",
              "        const buttonEl =\n",
              "          document.querySelector('#df-124431f2-935e-4abc-af06-4aadb0d2ed4b button.colab-df-convert');\n",
              "        buttonEl.style.display =\n",
              "          google.colab.kernel.accessAllowed ? 'block' : 'none';\n",
              "\n",
              "        async function convertToInteractive(key) {\n",
              "          const element = document.querySelector('#df-124431f2-935e-4abc-af06-4aadb0d2ed4b');\n",
              "          const dataTable =\n",
              "            await google.colab.kernel.invokeFunction('convertToInteractive',\n",
              "                                                     [key], {});\n",
              "          if (!dataTable) return;\n",
              "\n",
              "          const docLinkHtml = 'Like what you see? Visit the ' +\n",
              "            '<a target=\"_blank\" href=https://colab.research.google.com/notebooks/data_table.ipynb>data table notebook</a>'\n",
              "            + ' to learn more about interactive tables.';\n",
              "          element.innerHTML = '';\n",
              "          dataTable['output_type'] = 'display_data';\n",
              "          await google.colab.output.renderOutput(dataTable, element);\n",
              "          const docLink = document.createElement('div');\n",
              "          docLink.innerHTML = docLinkHtml;\n",
              "          element.appendChild(docLink);\n",
              "        }\n",
              "      </script>\n",
              "    </div>\n",
              "  </div>\n",
              "  "
            ]
          },
          "metadata": {},
          "execution_count": 13
        }
      ]
    },
    {
      "cell_type": "code",
      "source": [
        "planets_df = planets_df.drop(['residents','films','created', 'edited', 'url'  ] , axis=1)\n"
      ],
      "metadata": {
        "id": "ORa5_K0vgUwZ"
      },
      "execution_count": 14,
      "outputs": []
    },
    {
      "cell_type": "code",
      "source": [
        "my_colors = ['orange', 'brown', 'mediumseagreen', 'dodgerblue', 'saddlebrown']\n",
        "climate_planets = planets_df.climate.value_counts().plot.bar(title='How many planets in different climates', color=my_colors)\n",
        "\n"
      ],
      "metadata": {
        "colab": {
          "base_uri": "https://localhost:8080/",
          "height": 367
        },
        "id": "4ONd4GQs47iy",
        "outputId": "2c5e57a2-b283-4bc9-e444-c309d3e52c69"
      },
      "execution_count": 62,
      "outputs": [
        {
          "output_type": "display_data",
          "data": {
            "text/plain": [
              "<Figure size 432x288 with 1 Axes>"
            ],
            "image/png": "[encoded data removed]"
          },
          "metadata": {
            "needs_background": "light"
          }
        }
      ]
    },
    {
      "cell_type": "code",
      "source": [
        "planets_df_filter = planets_df[planets_df['population'] != 'unknown'] #Filter out unknow values from population"
      ],
      "metadata": {
        "id": "4TpEzW9-uLUX"
      },
      "execution_count": 43,
      "outputs": []
    },
    {
      "cell_type": "code",
      "source": [
        "planets_df_nonnum=planets_df_filter.groupby(['climate', 'population']).size()\n",
        "planets_df_nonnum=planets_df_nonnum.unstack()\n",
        "climate_pop = planets_df_nonnum.plot(kind='bar', title='Ho).legend(loc='center left',bbox_to_anchor=(1.0, 0.5))"
      ],
      "metadata": {
        "colab": {
          "base_uri": "https://localhost:8080/",
          "height": 265
        },
        "id": "c-hHh9ApzGOd",
        "outputId": "14984219-d3be-4d18-bfb4-1b8cb7eee6bb"
      },
      "execution_count": 49,
      "outputs": [
        {
          "output_type": "display_data",
          "data": {
            "text/plain": [
              "<Figure size 432x288 with 1 Axes>"
            ],
            "image/png": "[encoded data removed]"
          },
          "metadata": {
            "needs_background": "light"
          }
        }
      ]
    },
    {
      "cell_type": "code",
      "source": [
        "planets_df_clm=planets_df_filter.groupby('climate')['population'].sum().reset_index()\n"
      ],
      "metadata": {
        "id": "oYlXWPz9Cw9G"
      },
      "execution_count": 69,
      "outputs": []
    },
    {
      "cell_type": "code",
      "source": [
        "planets_df_clm['population'] = planets_df_clm['population'].astype(\"float\")\n"
      ],
      "metadata": {
        "id": "jW6aXOclGAy5"
      },
      "execution_count": 84,
      "outputs": []
    },
    {
      "cell_type": "code",
      "source": [
        "planets_df_clm"
      ],
      "metadata": {
        "colab": {
          "base_uri": "https://localhost:8080/",
          "height": 143
        },
        "id": "_mUDnZeiCxIn",
        "outputId": "7db1ee5f-4d2a-4a09-aa11-34dee134854d"
      },
      "execution_count": 85,
      "outputs": [
        {
          "output_type": "execute_result",
          "data": {
            "text/plain": [
              "               climate    population\n",
              "0                 arid  2.000000e+05\n",
              "1            temperate  2.000000e+57\n",
              "2  temperate, tropical  1.000000e+03"
            ],
            "text/html": [
              "\n",
              "  <div id=\"df-4125b56c-bc40-4022-8f58-67bf20a52791\">\n",
              "    <div class=\"colab-df-container\">\n",
              "      <div>\n",
              "<style scoped>\n",
              "    .dataframe tbody tr th:only-of-type {\n",
              "        vertical-align: middle;\n",
              "    }\n",
              "\n",
              "    .dataframe tbody tr th {\n",
              "        vertical-align: top;\n",
              "    }\n",
              "\n",
              "    .dataframe thead th {\n",
              "        text-align: right;\n",
              "    }\n",
              "</style>\n",
              "<table border=\"1\" class=\"dataframe\">\n",
              "  <thead>\n",
              "    <tr style=\"text-align: right;\">\n",
              "      <th></th>\n",
              "      <th>climate</th>\n",
              "      <th>population</th>\n",
              "    </tr>\n",
              "  </thead>\n",
              "  <tbody>\n",
              "    <tr>\n",
              "      <th>0</th>\n",
              "      <td>arid</td>\n",
              "      <td>2.000000e+05</td>\n",
              "    </tr>\n",
              "    <tr>\n",
              "      <th>1</th>\n",
              "      <td>temperate</td>\n",
              "      <td>2.000000e+57</td>\n",
              "    </tr>\n",
              "    <tr>\n",
              "      <th>2</th>\n",
              "      <td>temperate, tropical</td>\n",
              "      <td>1.000000e+03</td>\n",
              "    </tr>\n",
              "  </tbody>\n",
              "</table>\n",
              "</div>\n",
              "      <button class=\"colab-df-convert\" onclick=\"convertToInteractive('df-4125b56c-bc40-4022-8f58-67bf20a52791')\"\n",
              "              title=\"Convert this dataframe to an interactive table.\"\n",
              "              style=\"display:none;\">\n",
              "        \n",
              "  <svg xmlns=\"http://www.w3.org/2000/svg\" height=\"24px\"viewBox=\"0 0 24 24\"\n",
              "       width=\"24px\">\n",
              "    <path d=\"M0 0h24v24H0V0z\" fill=\"none\"/>\n",
              "    <path d=\"M18.56 5.44l.94 2.06.94-2.06 2.06-.94-2.06-.94-.94-2.06-.94 2.06-2.06.94zm-11 1L8.5 8.5l.94-2.06 2.06-.94-2.06-.94L8.5 2.5l-.94 2.06-2.06.94zm10 10l.94 2.06.94-2.06 2.06-.94-2.06-.94-.94-2.06-.94 2.06-2.06.94z\"/><path d=\"M17.41 7.96l-1.37-1.37c-.4-.4-.92-.59-1.43-.59-.52 0-1.04.2-1.43.59L10.3 9.45l-7.72 7.72c-.78.78-.78 2.05 0 2.83L4 21.41c.39.39.9.59 1.41.59.51 0 1.02-.2 1.41-.59l7.78-7.78 2.81-2.81c.8-.78.8-2.07 0-2.86zM5.41 20L4 18.59l7.72-7.72 1.47 1.35L5.41 20z\"/>\n",
              "  </svg>\n",
              "      </button>\n",
              "      \n",
              "  <style>\n",
              "    .colab-df-container {\n",
              "      display:flex;\n",
              "      flex-wrap:wrap;\n",
              "      gap: 12px;\n",
              "    }\n",
              "\n",
              "    .colab-df-convert {\n",
              "      background-color: #E8F0FE;\n",
              "      border: none;\n",
              "      border-radius: 50%;\n",
              "      cursor: pointer;\n",
              "      display: none;\n",
              "      fill: #1967D2;\n",
              "      height: 32px;\n",
              "      padding: 0 0 0 0;\n",
              "      width: 32px;\n",
              "    }\n",
              "\n",
              "    .colab-df-convert:hover {\n",
              "      background-color: #E2EBFA;\n",
              "      box-shadow: 0px 1px 2px rgba(60, 64, 67, 0.3), 0px 1px 3px 1px rgba(60, 64, 67, 0.15);\n",
              "      fill: #174EA6;\n",
              "    }\n",
              "\n",
              "    [theme=dark] .colab-df-convert {\n",
              "      background-color: #3B4455;\n",
              "      fill: #D2E3FC;\n",
              "    }\n",
              "\n",
              "    [theme=dark] .colab-df-convert:hover {\n",
              "      background-color: #434B5C;\n",
              "      box-shadow: 0px 1px 3px 1px rgba(0, 0, 0, 0.15);\n",
              "      filter: drop-shadow(0px 1px 2px rgba(0, 0, 0, 0.3));\n",
              "      fill: #FFFFFF;\n",
              "    }\n",
              "  </style>\n",
              "\n",
              "      <script>\n",
              "        const buttonEl =\n",
              "          document.querySelector('#df-4125b56c-bc40-4022-8f58-67bf20a52791 button.colab-df-convert');\n",
              "        buttonEl.style.display =\n",
              "          google.colab.kernel.accessAllowed ? 'block' : 'none';\n",
              "\n",
              "        async function convertToInteractive(key) {\n",
              "          const element = document.querySelector('#df-4125b56c-bc40-4022-8f58-67bf20a52791');\n",
              "          const dataTable =\n",
              "            await google.colab.kernel.invokeFunction('convertToInteractive',\n",
              "                                                     [key], {});\n",
              "          if (!dataTable) return;\n",
              "\n",
              "          const docLinkHtml = 'Like what you see? Visit the ' +\n",
              "            '<a target=\"_blank\" href=https://colab.research.google.com/notebooks/data_table.ipynb>data table notebook</a>'\n",
              "            + ' to learn more about interactive tables.';\n",
              "          element.innerHTML = '';\n",
              "          dataTable['output_type'] = 'display_data';\n",
              "          await google.colab.output.renderOutput(dataTable, element);\n",
              "          const docLink = document.createElement('div');\n",
              "          docLink.innerHTML = docLinkHtml;\n",
              "          element.appendChild(docLink);\n",
              "        }\n",
              "      </script>\n",
              "    </div>\n",
              "  </div>\n",
              "  "
            ]
          },
          "metadata": {},
          "execution_count": 85
        }
      ]
    },
    {
      "cell_type": "code",
      "source": [],
      "metadata": {
        "id": "BEqZDgLvDrK8"
      },
      "execution_count": null,
      "outputs": []
    }
  ]
}