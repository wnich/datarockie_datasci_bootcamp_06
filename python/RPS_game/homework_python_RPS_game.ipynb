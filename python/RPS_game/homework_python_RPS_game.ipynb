{
  "nbformat": 4,
  "nbformat_minor": 0,
  "metadata": {
    "colab": {
      "provenance": [],
      "authorship_tag": "ABX9TyMIjjFMyN1o/bI4/EalY/EI",
      "include_colab_link": true
    },
    "kernelspec": {
      "name": "python3",
      "display_name": "Python 3"
    },
    "language_info": {
      "name": "python"
    }
  },
  "cells": [
    {
      "cell_type": "markdown",
      "metadata": {
        "id": "view-in-github",
        "colab_type": "text"
      },
      "source": [
        "<a href=\"https://colab.research.google.com/github/wnich/datarockie_datasci_bootcamp_06/blob/main/python/RPS_game/homework_python_RPS_game.ipynb\" target=\"_parent\"><img src=\"https://colab.research.google.com/assets/colab-badge.svg\" alt=\"Open In Colab\"/></a>"
      ]
    },
    {
      "cell_type": "markdown",
      "source": [
        "#**Rock paper scissors game**\n",
        "Pao Ying Chup\n",
        "\n",
        "Author : Wanicha Mueangcharoen\n",
        "\n",
        "Datarockie Bootcamp 06\n",
        "\n",
        "2022\n",
        "\n",
        "\n"
      ],
      "metadata": {
        "id": "BG6eGO86MzUK"
      }
    },
    {
      "cell_type": "code",
      "execution_count": null,
      "metadata": {
        "id": "67seVMj9T7jM"
      },
      "outputs": [],
      "source": [
        "from random import sample\n",
        "from operator import add\n"
      ]
    },
    {
      "cell_type": "code",
      "source": [
        "\n",
        "def rps(x):\n",
        "  tie = 0\n",
        "  win = 0\n",
        "  lose = 0\n",
        "  \n",
        "  #random by computer\n",
        "  computer_action = sample(actions,1) #( , k); k is # i.e. k=2 ->['paper', 'rock']\n",
        "  computer_action = computer_action[0] # prevent rock vs ['scissors']\n",
        "    \n",
        "  if x == computer_action:\n",
        "    print(x, \"vs\", computer_action)\n",
        "    print(\"Tie\")\n",
        "    tie += 1\n",
        "  elif x == \"paper\":\n",
        "    if computer_action == \"scissors\":\n",
        "      print(x, \"vs\", computer_action)\n",
        "      print(\"You lose!\")\n",
        "      lose += 1\n",
        "    else:\n",
        "      print(x, \"vs\", computer_action)\n",
        "      print(\"Yay, you win!\")\n",
        "      win += 1\n",
        "  elif x == \"rock\":\n",
        "    if computer_action == \"paper\":\n",
        "      print(x, \"vs\", computer_action)\n",
        "      print(\"You lose!\")\n",
        "      lose += 1\n",
        "    else:\n",
        "      print(x, \"vs\", computer_action)\n",
        "      print(\"Yay, you win!\")\n",
        "      win += 1\n",
        "  else:\n",
        "    if computer_action == \"rock\":\n",
        "      print(x, \"vs\", computer_action)\n",
        "      print(\"You lose!\")\n",
        "      lose += 1\n",
        "    else:\n",
        "      print(x, \"vs\", computer_action)\n",
        "      print(\"Yay, you win!\")\n",
        "      win += 1   \n",
        "  return [win,lose,tie]\n",
        "\n",
        "\n",
        "actions = [\"rock\", \"paper\", \"scissors\"] \n",
        "res = [0,0,0]       \n",
        "while True:\n",
        "  player_action = input(\"Enter a choice (rock, paper, scissors): \").lower()\n",
        "  ply = rps(player_action)\n",
        "  res = list(map(add, res, ply)  )\n",
        "  again = input(\"Play Again? (y/n)\").lower()\n",
        "  if again == \"n\":\n",
        "        print( )\n",
        "        print(res)\n",
        "        break\n",
        "  print(\"res\")\n",
        "  \n",
        "\n",
        "\n"
      ],
      "metadata": {
        "id": "KMBQx3im0n4i"
      },
      "execution_count": null,
      "outputs": []
    },
    {
      "cell_type": "code",
      "source": [
        "print(\"Welcome to rock-paper-scissors game\")\n",
        "start = input(\"Are you ready for a game? (y/n)\").lower()\n",
        "yes_no = [\"y\", \"n\"]\n",
        "actions = [\"rock\", \"paper\", \"scissors\"]\n",
        "result = [0,0,0]\n",
        "\n",
        "while start not in yes_no: #while excute faster than if\n",
        "    print(\"Wrong input. Please try again (y/n).\")\n",
        "    start = input(\"Are you ready for a game? (y/n)\").lower()\n",
        "    \n",
        "while start == \"n\":\n",
        "    print(\"Bye-Bye\")\n",
        "    break\n",
        "\n",
        "if start == 'y':\n",
        "    print(\"OK. Let's get started!!!\")\n",
        "    while True:\n",
        "      print( )    \n",
        "      #game starts\n",
        "      print(\"YOU vs COMPUTER\")\n",
        "      player_action = input(\"Enter a choice (rock, paper, scissors): \").lower()     \n",
        "      \n",
        "      while player_action not in actions:\n",
        "        print(\"That's not a valid play. Check your spelling!\")\n",
        "        print(\"Enter: rock / paper / scissors\")\n",
        "        player_action = input(\"Enter a choice (rock, paper, scissors): \")\n",
        "      \n",
        "      player_result = rps(player_action)\n",
        "      result = list(map(add, result, player_result))\n",
        "      \n",
        "      again = input(\"Play Again? (y/n)\").lower()\n",
        "      if again not in yes_no:\n",
        "        print(\"Wrong input. Please try again (y/n).\")\n",
        "        again = input(\"Play Again? (y/n)\").lower()\n",
        "      elif again == \"n\":\n",
        "        print( )\n",
        "        print(f\"Your Score:\\n# of win(s): {result[0]} \\n# of lose(s): {result[1]} \\n# of tie(s): {result[2]}\") \n",
        "        break\n",
        "\n",
        "\n",
        "\n"
      ],
      "metadata": {
        "colab": {
          "base_uri": "https://localhost:8080/"
        },
        "id": "ZpdxuEGrmuQR",
        "outputId": "22380946-6662-42d0-e07d-f871c04b07e7"
      },
      "execution_count": null,
      "outputs": [
        {
          "output_type": "stream",
          "name": "stdout",
          "text": [
            "Welcome to rock-paper-scissors game\n",
            "Are you ready for a game? (y/n)y\n",
            "OK. Let's get started!!!\n",
            "\n",
            "YOU vs COMPUTER\n",
            "Enter a choice (rock, paper, scissors): rock\n",
            "rock vs scissors\n",
            "Yay, you win!\n",
            "Play Again? (y/n)re\n",
            "Wrong input. Please try again (y/n).\n",
            "Play Again? (y/n)y\n",
            "\n",
            "YOU vs COMPUTER\n",
            "Enter a choice (rock, paper, scissors): rock\n",
            "rock vs rock\n",
            "Tie\n",
            "Play Again? (y/n)n\n",
            "\n",
            "Your Score:\n",
            "# of win(s): 1 \n",
            "# of lose(s): 0 \n",
            "# of tie(s): 1\n"
          ]
        }
      ]
    },
    {
      "cell_type": "code",
      "source": [],
      "metadata": {
        "id": "WqcCxmIynqRG"
      },
      "execution_count": null,
      "outputs": []
    }
  ]
}